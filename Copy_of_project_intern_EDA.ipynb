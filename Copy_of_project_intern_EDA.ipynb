{
  "cells": [
    {
      "cell_type": "markdown",
      "metadata": {
        "id": "view-in-github",
        "colab_type": "text"
      },
      "source": [
        "<a href=\"https://colab.research.google.com/github/Jatin2832003/Project/blob/main/Copy_of_project_intern_EDA.ipynb\" target=\"_parent\"><img src=\"https://colab.research.google.com/assets/colab-badge.svg\" alt=\"Open In Colab\"/></a>"
      ]
    },
    {
      "cell_type": "code",
      "execution_count": null,
      "id": "71103fca",
      "metadata": {
        "id": "71103fca"
      },
      "outputs": [],
      "source": [
        "import numpy as np\n",
        "import pandas as pd\n",
        "import seaborn as sns\n",
        "import matplotlib.pyplot as plt\n",
        "%matplotlib inline"
      ]
    },
    {
      "cell_type": "markdown",
      "id": "adf0d676",
      "metadata": {
        "id": "adf0d676"
      },
      "source": [
        "## Importing CSV file"
      ]
    },
    {
      "cell_type": "code",
      "execution_count": null,
      "id": "1bfd7a77",
      "metadata": {
        "id": "1bfd7a77"
      },
      "outputs": [],
      "source": [
        "df = pd.read_csv('students_adaptability_level_online_education.csv')"
      ]
    },
    {
      "cell_type": "code",
      "execution_count": null,
      "id": "3939dc54",
      "metadata": {
        "id": "3939dc54"
      },
      "outputs": [],
      "source": [
        "# look the dataset\n",
        "df.head()"
      ]
    },
    {
      "cell_type": "code",
      "execution_count": null,
      "id": "f01e3c45",
      "metadata": {
        "id": "f01e3c45"
      },
      "outputs": [],
      "source": [
        "# Looking for no. of rows and column\n",
        "df.shape"
      ]
    },
    {
      "cell_type": "code",
      "execution_count": null,
      "id": "c723287a",
      "metadata": {
        "id": "c723287a"
      },
      "outputs": [],
      "source": [
        "# cheaking datatype of all columns\n",
        "df.info()"
      ]
    },
    {
      "cell_type": "code",
      "execution_count": null,
      "id": "7774bbe6",
      "metadata": {
        "id": "7774bbe6"
      },
      "outputs": [],
      "source": [
        "#cheaking missing value\n",
        "\n",
        "df.isnull().sum()"
      ]
    },
    {
      "cell_type": "markdown",
      "id": "7952a114",
      "metadata": {
        "id": "7952a114"
      },
      "source": [
        "#### Not any missing value"
      ]
    },
    {
      "cell_type": "code",
      "execution_count": null,
      "id": "6f6e4a77",
      "metadata": {
        "id": "6f6e4a77"
      },
      "outputs": [],
      "source": [
        "#Describing the dataset\n",
        "\n",
        "df.describe().T\n",
        "\n",
        "#we transposed the dataframe for better view"
      ]
    },
    {
      "cell_type": "code",
      "execution_count": null,
      "id": "1e13dde8",
      "metadata": {
        "id": "1e13dde8"
      },
      "outputs": [],
      "source": [
        "# Pie chart show % adaptivity level in dataset\n",
        "\n",
        "plt.figure(figsize=(8,6))\n",
        "df['Adaptivity Level'].value_counts().plot.pie(autopct='%1.1f%%' ,shadow=True)\n"
      ]
    },
    {
      "cell_type": "markdown",
      "id": "84cd59d8",
      "metadata": {
        "id": "84cd59d8"
      },
      "source": [
        "### The percentage Adaptivity Level in Dataset\n",
        "\n",
        "#### Low = 39.8%\n",
        "#### Moderate = 51.9%\n",
        "#### High = 8.3 %"
      ]
    },
    {
      "cell_type": "code",
      "execution_count": null,
      "id": "0d9e2ffb",
      "metadata": {
        "id": "0d9e2ffb"
      },
      "outputs": [],
      "source": [
        "# Show the Device using in Dataset\n",
        "\n",
        "plt.figure( figsize=(8,6))\n",
        "\n",
        "df['Device'].value_counts().plot.pie(autopct='%1.1f%%', shadow=True)"
      ]
    },
    {
      "cell_type": "markdown",
      "id": "235537eb",
      "metadata": {
        "id": "235537eb"
      },
      "source": [
        "### The Device using in Dataset\n",
        "#### Mobile = 84.1%\n",
        "#### Computer = 13.4%\n",
        "#### Tab = 2.5%"
      ]
    },
    {
      "cell_type": "code",
      "execution_count": null,
      "id": "f5966742",
      "metadata": {
        "id": "f5966742"
      },
      "outputs": [],
      "source": [
        "# Show the effect Institution Type in Adaptivity Level using in Dataset\n",
        "\n",
        "plt.figure(figsize=(8,6))\n",
        "\n",
        "\n",
        "sns.countplot(df[\"Institution Type\"],hue=df[\"Adaptivity Level\"])"
      ]
    },
    {
      "cell_type": "markdown",
      "id": "76e2607d",
      "metadata": {
        "id": "76e2607d"
      },
      "source": [
        "#### In general we can say that,\n",
        "Affect on non Government - HIGH\n",
        "\n",
        "Affect on Government - LOW\n"
      ]
    },
    {
      "cell_type": "code",
      "execution_count": null,
      "id": "6a1f397d",
      "metadata": {
        "id": "6a1f397d"
      },
      "outputs": [],
      "source": [
        "#Show the effect Financial Condition in Adaptivity Level using in Dataset\n",
        "\n",
        "plt.figure(figsize=(8,6))\n",
        "\n",
        "sns.countplot(df[\"Financial Condition\"],hue=df[\"Adaptivity Level\"])"
      ]
    },
    {
      "cell_type": "markdown",
      "id": "8b57ee8a",
      "metadata": {
        "id": "8b57ee8a"
      },
      "source": [
        "#### According to this data,\n",
        "\n",
        "Middle Financial families Adaptivity - HIGH\n",
        "\n",
        "Poor and Rich Financial families Adaptivity - LOW"
      ]
    },
    {
      "cell_type": "code",
      "execution_count": null,
      "id": "cbba4308",
      "metadata": {
        "id": "cbba4308"
      },
      "outputs": [],
      "source": [
        "# Show the effect Gender in Adaptivity Level using in Dataset\n",
        "\n",
        "plt.figure(figsize=(8,6))\n",
        "\n",
        "sns.countplot(df[\"Gender\"],hue=df[\"Adaptivity Level\"])"
      ]
    },
    {
      "cell_type": "markdown",
      "id": "eea90463",
      "metadata": {
        "id": "eea90463"
      },
      "source": [
        "#### Not remarkable difference between the gender for Adaptivity Level"
      ]
    },
    {
      "cell_type": "code",
      "execution_count": null,
      "id": "0a2c6507",
      "metadata": {
        "id": "0a2c6507"
      },
      "outputs": [],
      "source": [
        "# Show the effect Network Type in Adaptivity Level using in Dataset\n",
        "\n",
        "plt.figure(figsize=(8,6))\n",
        "sns.countplot(df[\"Network Type\"],hue=df[\"Adaptivity Level\"])"
      ]
    },
    {
      "cell_type": "markdown",
      "id": "8ce0a70c",
      "metadata": {
        "id": "8ce0a70c"
      },
      "source": [
        "#### Most of the students using - 4G and its progress Highest\n",
        "#### Than 3G and lowest 2G"
      ]
    },
    {
      "cell_type": "markdown",
      "id": "00696428",
      "metadata": {
        "id": "00696428"
      },
      "source": [
        "### Building a Machine Learning Model And Predict"
      ]
    },
    {
      "cell_type": "code",
      "execution_count": null,
      "id": "a636793f",
      "metadata": {
        "id": "a636793f"
      },
      "outputs": [],
      "source": [
        "#Importing the basic librarires for building model - classification\n",
        "\n",
        "from sklearn.model_selection import train_test_split\n",
        "from sklearn.ensemble import RandomForestClassifier\n",
        "from sklearn.preprocessing import LabelEncoder,StandardScaler\n",
        "from sklearn.metrics import accuracy_score\n"
      ]
    },
    {
      "cell_type": "code",
      "execution_count": null,
      "id": "9267a28f",
      "metadata": {
        "id": "9267a28f"
      },
      "outputs": [],
      "source": [
        "df.info()"
      ]
    },
    {
      "cell_type": "markdown",
      "id": "32d12f45",
      "metadata": {
        "id": "32d12f45"
      },
      "source": [
        "### We need change all data type using LabelEncode"
      ]
    },
    {
      "cell_type": "code",
      "execution_count": null,
      "id": "35ee61ce",
      "metadata": {
        "id": "35ee61ce"
      },
      "outputs": [],
      "source": [
        "# change all data type using LabelEncode\n",
        "\n",
        "data=df\n",
        "\n",
        "label_encoders = {}\n",
        "categorical_columns = data.columns  # I would recommend using columns names here if you're using pandas. If you're using numpy then stick with range(n) instead\n",
        "\n",
        "for column in categorical_columns:\n",
        "    label_encoders[column] = LabelEncoder()\n",
        "    data[column] = label_encoders[column].fit_transform(data[column])"
      ]
    },
    {
      "cell_type": "code",
      "execution_count": null,
      "id": "137eccca",
      "metadata": {
        "id": "137eccca"
      },
      "outputs": [],
      "source": [
        "data.head()"
      ]
    },
    {
      "cell_type": "code",
      "execution_count": null,
      "id": "648c3237",
      "metadata": {
        "id": "648c3237"
      },
      "outputs": [],
      "source": [
        "#Defined X value and y value , and split the data train\n",
        "X = df.drop(columns=\"Adaptivity Level\")\n",
        "y = df[\"Adaptivity Level\"]   # y = quality\n",
        "\n",
        "# split the data train and test\n",
        "X_train, X_test, y_train, y_test = train_test_split(X, y, test_size=0.30, random_state=42)\n",
        "\n",
        "print(\"X Train : \", X_train.shape)\n",
        "print(\"X Test  : \", X_test.shape)\n",
        "print(\"Y Train : \", y_train.shape)\n",
        "print(\"Y Test  : \", y_test.shape)"
      ]
    },
    {
      "cell_type": "code",
      "execution_count": null,
      "id": "2248d1e5",
      "metadata": {
        "id": "2248d1e5"
      },
      "outputs": [],
      "source": [
        "#Train the machine learning algorithm\n",
        "\n",
        "RFR = RandomForestClassifier()\n",
        "RFR.fit(X_train,y_train)"
      ]
    },
    {
      "cell_type": "code",
      "execution_count": null,
      "id": "a7367741",
      "metadata": {
        "id": "a7367741"
      },
      "outputs": [],
      "source": [
        "#Make predictions\n",
        "y_pred = RFR.predict(X_test)\n",
        "\n",
        "#Evaluate the accuracy\n",
        "accuracy =accuracy_score(y_test, y_pred)\n",
        "print(\"Accuracy:\",accuracy)"
      ]
    },
    {
      "cell_type": "markdown",
      "id": "7a67b838",
      "metadata": {
        "id": "7a67b838"
      },
      "source": [
        "## So our RandomForestClassifier Model has 90.33% Accuracy"
      ]
    },
    {
      "cell_type": "code",
      "execution_count": null,
      "id": "c38c2ee0",
      "metadata": {
        "id": "c38c2ee0"
      },
      "outputs": [],
      "source": []
    }
  ],
  "metadata": {
    "kernelspec": {
      "display_name": "Python 3 (ipykernel)",
      "language": "python",
      "name": "python3"
    },
    "language_info": {
      "codemirror_mode": {
        "name": "ipython",
        "version": 3
      },
      "file_extension": ".py",
      "mimetype": "text/x-python",
      "name": "python",
      "nbconvert_exporter": "python",
      "pygments_lexer": "ipython3",
      "version": "3.9.13"
    },
    "colab": {
      "provenance": [],
      "toc_visible": true,
      "include_colab_link": true
    }
  },
  "nbformat": 4,
  "nbformat_minor": 5
}